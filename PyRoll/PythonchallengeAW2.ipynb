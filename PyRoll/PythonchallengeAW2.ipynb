{
 "cells": [
  {
   "cell_type": "code",
   "execution_count": 1,
   "metadata": {},
   "outputs": [],
   "source": [
    "import os\n",
    "import csv\n",
    "import statistics\n",
    "import numpy as np"
   ]
  },
  {
   "cell_type": "code",
   "execution_count": 5,
   "metadata": {},
   "outputs": [
    {
     "name": "stdout",
     "output_type": "stream",
     "text": [
      "['Queen']\n"
     ]
    }
   ],
   "source": [
    "csvpath = os.path.join('election_data.csv')\n",
    "with open(csvpath, newline='') as csvfile:\n",
    "    csvreader = csv.reader(csvfile, delimiter=',')\n",
    "    csv_header = next(csvreader)\n",
    "    first_row = next(csvreader)\n",
    "    #The total number of votes cast\n",
    "    for row in csvreader:\n",
    "        voter_list = [(row[1])]\n",
    "        total_voters = len(voter_list)\n",
    "        print(voter_list)\n",
    "    \n",
    "\n",
    "\n",
    "#A complete list of candidates who received votes\n",
    "\n",
    "\n",
    "#The percentage of votes each candidate won\n",
    "\n",
    "\n",
    "#The total number of votes each candidate won\n",
    "\n",
    "\n",
    "#The winner of the election based on popular vote."
   ]
  },
  {
   "cell_type": "code",
   "execution_count": null,
   "metadata": {},
   "outputs": [],
   "source": []
  },
  {
   "cell_type": "code",
   "execution_count": null,
   "metadata": {},
   "outputs": [],
   "source": []
  }
 ],
 "metadata": {
  "kernelspec": {
   "display_name": "Python 3",
   "language": "python",
   "name": "python3"
  },
  "language_info": {
   "codemirror_mode": {
    "name": "ipython",
    "version": 3
   },
   "file_extension": ".py",
   "mimetype": "text/x-python",
   "name": "python",
   "nbconvert_exporter": "python",
   "pygments_lexer": "ipython3",
   "version": "3.7.4"
  }
 },
 "nbformat": 4,
 "nbformat_minor": 4
}
