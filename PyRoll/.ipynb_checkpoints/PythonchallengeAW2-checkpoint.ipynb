{
 "cells": [
  {
   "cell_type": "code",
   "execution_count": 1,
   "metadata": {},
   "outputs": [],
   "source": [
    "import os\n",
    "import csv"
   ]
  },
  {
   "cell_type": "code",
   "execution_count": 6,
   "metadata": {},
   "outputs": [
    {
     "name": "stdout",
     "output_type": "stream",
     "text": [
      "Election Results\n",
      "----------------\n",
      "Total Votes: 3521000\n",
      "----------------\n",
      "Correy: 20% 704200\n",
      "Khan: 63% 2922430\n",
      "Li: 14% 3415370\n",
      "O'Tooley: 3% 3521000\n",
      "----------------\n",
      "Winner: Khan\n",
      "----------------\n"
     ]
    }
   ],
   "source": [
    "csvpath = os.path.join('election_data.csv')\n",
    "with open(csvpath, newline='') as csvfile:\n",
    "    csvreader = csv.reader(csvfile, delimiter=',')\n",
    "    csv_header = next(csvreader)\n",
    "    first_row = next(csvreader)\n",
    "\n",
    "    candidate_list = {}\n",
    "    voters = 0\n",
    "    votes_cast = 0\n",
    "    percent_of_votes = 0\n",
    "    most_votes = 0\n",
    "    most_voted = \"\"\n",
    "\n",
    "    for row in csvreader:\n",
    "        candidate = row[2]\n",
    "        voters += 1\n",
    "        if candidate in candidate_list.keys():\n",
    "            candidate_list[candidate] += 1\n",
    "        else:\n",
    "            candidate_list[candidate] = 1\n",
    "    \n",
    "    print(\"Election Results\")    \n",
    "    print(\"----------------\")\n",
    "    print(f\"Total Votes: {voters}\")\n",
    "    print(\"----------------\")\n",
    "\n",
    "    for candidate in candidate_list:\n",
    "        votes_cast += candidate_list[candidate]\n",
    "\n",
    "        percent_of_votes = (candidate_list[candidate])/(voters) * 100\n",
    "        print(f\"{candidate}: {int(percent_of_votes)}% {votes_cast}\")\n",
    "        \n",
    "        if candidate_list[candidate] > most_votes:\n",
    "            most_voted = candidate\n",
    "            most_votes = candidate_list[candidate]\n",
    "        \n",
    "\n",
    "\n",
    "    print(\"----------------\")\n",
    "    print(f\"Winner: {most_voted}\")\n",
    "    print(\"----------------\")"
   ]
  },
  {
   "cell_type": "code",
   "execution_count": null,
   "metadata": {},
   "outputs": [],
   "source": []
  },
  {
   "cell_type": "code",
   "execution_count": null,
   "metadata": {},
   "outputs": [],
   "source": []
  }
 ],
 "metadata": {
  "kernelspec": {
   "display_name": "Python 3",
   "language": "python",
   "name": "python3"
  },
  "language_info": {
   "codemirror_mode": {
    "name": "ipython",
    "version": 3
   },
   "file_extension": ".py",
   "mimetype": "text/x-python",
   "name": "python",
   "nbconvert_exporter": "python",
   "pygments_lexer": "ipython3",
   "version": "3.7.4"
  }
 },
 "nbformat": 4,
 "nbformat_minor": 4
}
