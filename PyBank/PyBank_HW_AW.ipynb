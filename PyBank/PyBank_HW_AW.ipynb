{
 "cells": [
  {
   "cell_type": "code",
   "execution_count": 1,
   "metadata": {},
   "outputs": [],
   "source": [
    "import os\n",
    "import csv\n",
    "import numpy"
   ]
  },
  {
   "cell_type": "code",
   "execution_count": 2,
   "metadata": {},
   "outputs": [
    {
     "name": "stdout",
     "output_type": "stream",
     "text": [
      "Financial Analysis\n",
      "---------------------\n",
      "Total Months: 85\n",
      "Total: $37514694.0\n",
      "Average Change: $-2315.1176470588234\n",
      "Greatest Increase: $1926159\n",
      "Greatest Decrease: $-2196167\n"
     ]
    }
   ],
   "source": [
    "csvpath = os.path.join('Data/budget_data.csv')\n",
    "with open(csvpath, newline='') as csvfile:\n",
    "    csvreader = csv.reader(csvfile, delimiter=',')\n",
    "    header = next(csvreader)\n",
    "    first_row = next(csvreader)\n",
    "    prev_net = int(first_row[1])\n",
    "    \n",
    "    change_list = []\n",
    "    greatest_increase = 0\n",
    "    greatest_decrease = 0\n",
    "    \n",
    "    total = 0\n",
    "    months = 0\n",
    "    change = 0\n",
    "    \n",
    "    for row in csvreader:\n",
    "        total += int(row[1])\n",
    "        months += 1\n",
    "        change = int(row[1]) - prev_net\n",
    "        change_list = (change_list + [change])\n",
    "        prev_net = int(row[1])\n",
    "\n",
    "\n",
    "    change_array = numpy.array(change_list)\n",
    "    change_min = numpy.min(change_array)\n",
    "    change_max = numpy.max(change_array)\n",
    "    print(\"Financial Analysis\")\n",
    "    print(\"---------------------\")\n",
    "    print(f\"Total Months: {months}\")\n",
    "    print(f\"Total: ${float(total)}\")\n",
    "    print(f\"Average Change: ${sum(change_list)/len(change_list)}\")  \n",
    "    print(f\"Greatest Increase: ${change_max}\")\n",
    "    print(f\"Greatest Decrease: ${change_min}\")"
   ]
  },
  {
   "cell_type": "code",
   "execution_count": null,
   "metadata": {},
   "outputs": [],
   "source": []
  }
 ],
 "metadata": {
  "kernelspec": {
   "display_name": "Python 3",
   "language": "python",
   "name": "python3"
  },
  "language_info": {
   "codemirror_mode": {
    "name": "ipython",
    "version": 3
   },
   "file_extension": ".py",
   "mimetype": "text/x-python",
   "name": "python",
   "nbconvert_exporter": "python",
   "pygments_lexer": "ipython3",
   "version": "3.7.4"
  }
 },
 "nbformat": 4,
 "nbformat_minor": 4
}
